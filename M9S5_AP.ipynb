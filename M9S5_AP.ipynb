{
  "nbformat": 4,
  "nbformat_minor": 0,
  "metadata": {
    "colab": {
      "provenance": [],
      "authorship_tag": "ABX9TyMIIEK7g+gnlHHN124l6AW/",
      "include_colab_link": true
    },
    "kernelspec": {
      "name": "python3",
      "display_name": "Python 3"
    },
    "language_info": {
      "name": "python"
    }
  },
  "cells": [
    {
      "cell_type": "markdown",
      "metadata": {
        "id": "view-in-github",
        "colab_type": "text"
      },
      "source": [
        "<a href=\"https://colab.research.google.com/github/valentina-992/MLlib/blob/main/M9S5_AP.ipynb\" target=\"_parent\"><img src=\"https://colab.research.google.com/assets/colab-badge.svg\" alt=\"Open In Colab\"/></a>"
      ]
    },
    {
      "cell_type": "markdown",
      "source": [
        "# ACTIVIDAD SESIÓN INTRODUCIÓN A MACHINE LEARNING ESCALABLE\n",
        "Una tienda de cosmética quiere desarrollar un sistema inteligente que clasifique productos de **skin care** en diferentes categorías según sus características. La clasificación ayudará a recomendar\n",
        "productos adecuados a los clientes según su tipo de piel.\n",
        "\n",
        "La tienda proporciona un dataset con información de productos, incluyendo:\n",
        "- **Ingredientes clave** (como ácido hialurónico, retinol, vitamina C, etc.)\n",
        "- **Nivel de hidratación**\n",
        "- **Nivel de absorción**\n",
        "- **Factor de protección solar (SPF)**\n",
        "- **Tipo de piel recomendado** (seco, graso, mixto o sensible)\n",
        "\n",
        "El objetivo es entrenar un modelo de clasificación con MLlib que prediga el tipo de piel recomendado para cada producto.\n",
        "\n",
        "**Importante:**\n",
        "Se debe convertir **Tipo de Piel** en valores numéricos:\n",
        "- Seco → 0\n",
        "- Graso → 1\n",
        "- Mixto → 2\n",
        "- Sensible → 3"
      ],
      "metadata": {
        "id": "FKFyMNFUYUyj"
      }
    },
    {
      "cell_type": "markdown",
      "source": [
        "**INSTRUCCIONES**\n",
        "## 1. Carga y exploración de datos (2 puntos)\n",
        "- Cargar los datos desde **skincare_products.csv** en un DataFrame de PySpark.\n",
        "- Mostrar las primeras filas del dataset.\n",
        "- Realizar un resumen estadístico de las variables numéricas."
      ],
      "metadata": {
        "id": "UOKEUDFeZDGU"
      }
    },
    {
      "cell_type": "code",
      "source": [
        "# Librerías\n",
        "from pyspark.sql import SparkSession\n",
        "from pyspark.sql.functions import col, when\n",
        "from pyspark.ml.feature import StringIndexer, VectorAssembler\n",
        "from pyspark.ml.classification import DecisionTreeClassifier, RandomForestClassifier\n",
        "from pyspark.ml.tuning import ParamGridBuilder, CrossValidator\n",
        "from pyspark.ml.evaluation import MulticlassClassificationEvaluator\n",
        "from google.colab import files"
      ],
      "metadata": {
        "id": "kXGVG-0YzSuE"
      },
      "execution_count": null,
      "outputs": []
    },
    {
      "cell_type": "code",
      "source": [
        "# Carga archivo\n",
        "files.upload()"
      ],
      "metadata": {
        "colab": {
          "base_uri": "https://localhost:8080/",
          "height": 201
        },
        "id": "DtUKUW7QzdMV",
        "outputId": "15caa8c1-a019-4515-a7e0-ac69035f4d01"
      },
      "execution_count": null,
      "outputs": [
        {
          "output_type": "display_data",
          "data": {
            "text/plain": [
              "<IPython.core.display.HTML object>"
            ],
            "text/html": [
              "\n",
              "     <input type=\"file\" id=\"files-7fe6dac7-337c-4ed6-be26-dfd9182f387a\" name=\"files[]\" multiple disabled\n",
              "        style=\"border:none\" />\n",
              "     <output id=\"result-7fe6dac7-337c-4ed6-be26-dfd9182f387a\">\n",
              "      Upload widget is only available when the cell has been executed in the\n",
              "      current browser session. Please rerun this cell to enable.\n",
              "      </output>\n",
              "      <script>// Copyright 2017 Google LLC\n",
              "//\n",
              "// Licensed under the Apache License, Version 2.0 (the \"License\");\n",
              "// you may not use this file except in compliance with the License.\n",
              "// You may obtain a copy of the License at\n",
              "//\n",
              "//      http://www.apache.org/licenses/LICENSE-2.0\n",
              "//\n",
              "// Unless required by applicable law or agreed to in writing, software\n",
              "// distributed under the License is distributed on an \"AS IS\" BASIS,\n",
              "// WITHOUT WARRANTIES OR CONDITIONS OF ANY KIND, either express or implied.\n",
              "// See the License for the specific language governing permissions and\n",
              "// limitations under the License.\n",
              "\n",
              "/**\n",
              " * @fileoverview Helpers for google.colab Python module.\n",
              " */\n",
              "(function(scope) {\n",
              "function span(text, styleAttributes = {}) {\n",
              "  const element = document.createElement('span');\n",
              "  element.textContent = text;\n",
              "  for (const key of Object.keys(styleAttributes)) {\n",
              "    element.style[key] = styleAttributes[key];\n",
              "  }\n",
              "  return element;\n",
              "}\n",
              "\n",
              "// Max number of bytes which will be uploaded at a time.\n",
              "const MAX_PAYLOAD_SIZE = 100 * 1024;\n",
              "\n",
              "function _uploadFiles(inputId, outputId) {\n",
              "  const steps = uploadFilesStep(inputId, outputId);\n",
              "  const outputElement = document.getElementById(outputId);\n",
              "  // Cache steps on the outputElement to make it available for the next call\n",
              "  // to uploadFilesContinue from Python.\n",
              "  outputElement.steps = steps;\n",
              "\n",
              "  return _uploadFilesContinue(outputId);\n",
              "}\n",
              "\n",
              "// This is roughly an async generator (not supported in the browser yet),\n",
              "// where there are multiple asynchronous steps and the Python side is going\n",
              "// to poll for completion of each step.\n",
              "// This uses a Promise to block the python side on completion of each step,\n",
              "// then passes the result of the previous step as the input to the next step.\n",
              "function _uploadFilesContinue(outputId) {\n",
              "  const outputElement = document.getElementById(outputId);\n",
              "  const steps = outputElement.steps;\n",
              "\n",
              "  const next = steps.next(outputElement.lastPromiseValue);\n",
              "  return Promise.resolve(next.value.promise).then((value) => {\n",
              "    // Cache the last promise value to make it available to the next\n",
              "    // step of the generator.\n",
              "    outputElement.lastPromiseValue = value;\n",
              "    return next.value.response;\n",
              "  });\n",
              "}\n",
              "\n",
              "/**\n",
              " * Generator function which is called between each async step of the upload\n",
              " * process.\n",
              " * @param {string} inputId Element ID of the input file picker element.\n",
              " * @param {string} outputId Element ID of the output display.\n",
              " * @return {!Iterable<!Object>} Iterable of next steps.\n",
              " */\n",
              "function* uploadFilesStep(inputId, outputId) {\n",
              "  const inputElement = document.getElementById(inputId);\n",
              "  inputElement.disabled = false;\n",
              "\n",
              "  const outputElement = document.getElementById(outputId);\n",
              "  outputElement.innerHTML = '';\n",
              "\n",
              "  const pickedPromise = new Promise((resolve) => {\n",
              "    inputElement.addEventListener('change', (e) => {\n",
              "      resolve(e.target.files);\n",
              "    });\n",
              "  });\n",
              "\n",
              "  const cancel = document.createElement('button');\n",
              "  inputElement.parentElement.appendChild(cancel);\n",
              "  cancel.textContent = 'Cancel upload';\n",
              "  const cancelPromise = new Promise((resolve) => {\n",
              "    cancel.onclick = () => {\n",
              "      resolve(null);\n",
              "    };\n",
              "  });\n",
              "\n",
              "  // Wait for the user to pick the files.\n",
              "  const files = yield {\n",
              "    promise: Promise.race([pickedPromise, cancelPromise]),\n",
              "    response: {\n",
              "      action: 'starting',\n",
              "    }\n",
              "  };\n",
              "\n",
              "  cancel.remove();\n",
              "\n",
              "  // Disable the input element since further picks are not allowed.\n",
              "  inputElement.disabled = true;\n",
              "\n",
              "  if (!files) {\n",
              "    return {\n",
              "      response: {\n",
              "        action: 'complete',\n",
              "      }\n",
              "    };\n",
              "  }\n",
              "\n",
              "  for (const file of files) {\n",
              "    const li = document.createElement('li');\n",
              "    li.append(span(file.name, {fontWeight: 'bold'}));\n",
              "    li.append(span(\n",
              "        `(${file.type || 'n/a'}) - ${file.size} bytes, ` +\n",
              "        `last modified: ${\n",
              "            file.lastModifiedDate ? file.lastModifiedDate.toLocaleDateString() :\n",
              "                                    'n/a'} - `));\n",
              "    const percent = span('0% done');\n",
              "    li.appendChild(percent);\n",
              "\n",
              "    outputElement.appendChild(li);\n",
              "\n",
              "    const fileDataPromise = new Promise((resolve) => {\n",
              "      const reader = new FileReader();\n",
              "      reader.onload = (e) => {\n",
              "        resolve(e.target.result);\n",
              "      };\n",
              "      reader.readAsArrayBuffer(file);\n",
              "    });\n",
              "    // Wait for the data to be ready.\n",
              "    let fileData = yield {\n",
              "      promise: fileDataPromise,\n",
              "      response: {\n",
              "        action: 'continue',\n",
              "      }\n",
              "    };\n",
              "\n",
              "    // Use a chunked sending to avoid message size limits. See b/62115660.\n",
              "    let position = 0;\n",
              "    do {\n",
              "      const length = Math.min(fileData.byteLength - position, MAX_PAYLOAD_SIZE);\n",
              "      const chunk = new Uint8Array(fileData, position, length);\n",
              "      position += length;\n",
              "\n",
              "      const base64 = btoa(String.fromCharCode.apply(null, chunk));\n",
              "      yield {\n",
              "        response: {\n",
              "          action: 'append',\n",
              "          file: file.name,\n",
              "          data: base64,\n",
              "        },\n",
              "      };\n",
              "\n",
              "      let percentDone = fileData.byteLength === 0 ?\n",
              "          100 :\n",
              "          Math.round((position / fileData.byteLength) * 100);\n",
              "      percent.textContent = `${percentDone}% done`;\n",
              "\n",
              "    } while (position < fileData.byteLength);\n",
              "  }\n",
              "\n",
              "  // All done.\n",
              "  yield {\n",
              "    response: {\n",
              "      action: 'complete',\n",
              "    }\n",
              "  };\n",
              "}\n",
              "\n",
              "scope.google = scope.google || {};\n",
              "scope.google.colab = scope.google.colab || {};\n",
              "scope.google.colab._files = {\n",
              "  _uploadFiles,\n",
              "  _uploadFilesContinue,\n",
              "};\n",
              "})(self);\n",
              "</script> "
            ]
          },
          "metadata": {}
        },
        {
          "output_type": "stream",
          "name": "stdout",
          "text": [
            "Saving skincare_products.csv to skincare_products.csv\n"
          ]
        },
        {
          "output_type": "execute_result",
          "data": {
            "text/plain": [
              "{'skincare_products.csv': b'Ingredientes,Hidrataci\\xc3\\xb3n,Absorci\\xc3\\xb3n,SPF,Tipo de Piel\\r\\n\\xc3\\x81cido Hialur\\xc3\\xb3nico,Alto,Medio,0,Seco\\r\\nRetinol,Bajo,Alto,0,Graso\\r\\nVitamina C,Medio,Medio,30,Mixto\\r\\nAloe Vera,Alto,Bajo,15,Sensible\\r\\nNiacinamida,Medio,Medio,0,Mixto\\r\\nCeramidas,Alto,Bajo,0,Seco\\r\\n\\xc3\\x81cido Salic\\xc3\\xadlico,Bajo,Alto,0,Graso\\r\\nCentella Asi\\xc3\\xa1tica,Medio,Medio,20,Sensible\\r\\nExtracto de T\\xc3\\xa9 Verde,Medio,Alto,0,Mixto\\r\\nManteca de Karit\\xc3\\xa9,Alto,Bajo,0,Seco\\r\\nExtracto de Regaliz,Medio,Medio,15,Sensible\\r\\nVitamina E,Alto,Medio,25,Seco\\r\\nBakuchiol,Bajo,Medio,0,Mixto\\r\\n\\xc3\\x81cido K\\xc3\\xb3jico,Medio,Alto,0,Graso\\r\\nBeta-Glucanos,Alto,Bajo,10,Sensible\\r\\nResveratrol,Medio,Medio,20,Mixto\\r\\nP\\xc3\\xa9ptidos,Bajo,Alto,0,Graso\\r\\nEscualano,Alto,Medio,0,Seco\\r\\nArbutina,Medio,Alto,0,Mixto\\r\\nUrea,Alto,Bajo,15,Sensible\\r\\n'}"
            ]
          },
          "metadata": {},
          "execution_count": 2
        }
      ]
    },
    {
      "cell_type": "code",
      "source": [
        "# Sesión spark\n",
        "spark = SparkSession.builder.appName(\"SkincareProducts\").getOrCreate()\n",
        "sc = spark.sparkContext"
      ],
      "metadata": {
        "id": "TwonZ3fo0Quc"
      },
      "execution_count": null,
      "outputs": []
    },
    {
      "cell_type": "code",
      "source": [
        "# Creación de DataFrame con spark\n",
        "df = spark.read.csv(\"skincare_products.csv\", header=True, inferSchema=True, encoding='utf-8')\n",
        "\n",
        "# Mostrar primeros registros\n",
        "df.show()"
      ],
      "metadata": {
        "colab": {
          "base_uri": "https://localhost:8080/"
        },
        "id": "tpQ3tsX21QFX",
        "outputId": "d36ad23c-edeb-4d15-84b0-4428a0416388"
      },
      "execution_count": null,
      "outputs": [
        {
          "output_type": "stream",
          "name": "stdout",
          "text": [
            "+--------------------+-----------+---------+---+------------+\n",
            "|        Ingredientes|Hidratación|Absorción|SPF|Tipo de Piel|\n",
            "+--------------------+-----------+---------+---+------------+\n",
            "|   Ácido Hialurónico|       Alto|    Medio|  0|        Seco|\n",
            "|             Retinol|       Bajo|     Alto|  0|       Graso|\n",
            "|          Vitamina C|      Medio|    Medio| 30|       Mixto|\n",
            "|           Aloe Vera|       Alto|     Bajo| 15|    Sensible|\n",
            "|         Niacinamida|      Medio|    Medio|  0|       Mixto|\n",
            "|           Ceramidas|       Alto|     Bajo|  0|        Seco|\n",
            "|    Ácido Salicílico|       Bajo|     Alto|  0|       Graso|\n",
            "|   Centella Asiática|      Medio|    Medio| 20|    Sensible|\n",
            "|Extracto de Té Verde|      Medio|     Alto|  0|       Mixto|\n",
            "|   Manteca de Karité|       Alto|     Bajo|  0|        Seco|\n",
            "| Extracto de Regaliz|      Medio|    Medio| 15|    Sensible|\n",
            "|          Vitamina E|       Alto|    Medio| 25|        Seco|\n",
            "|           Bakuchiol|       Bajo|    Medio|  0|       Mixto|\n",
            "|        Ácido Kójico|      Medio|     Alto|  0|       Graso|\n",
            "|       Beta-Glucanos|       Alto|     Bajo| 10|    Sensible|\n",
            "|         Resveratrol|      Medio|    Medio| 20|       Mixto|\n",
            "|            Péptidos|       Bajo|     Alto|  0|       Graso|\n",
            "|           Escualano|       Alto|    Medio|  0|        Seco|\n",
            "|            Arbutina|      Medio|     Alto|  0|       Mixto|\n",
            "|                Urea|       Alto|     Bajo| 15|    Sensible|\n",
            "+--------------------+-----------+---------+---+------------+\n",
            "\n"
          ]
        }
      ]
    },
    {
      "cell_type": "code",
      "source": [
        "# Resumen estadístico de variables numéricas\n",
        "df.select(\"Hidratación\", \"Absorción\", \"SPF\").describe().show()"
      ],
      "metadata": {
        "colab": {
          "base_uri": "https://localhost:8080/"
        },
        "id": "cbsbtlLE1xNp",
        "outputId": "23acdfe1-33b5-4c2d-aed8-5d7f9b497053"
      },
      "execution_count": null,
      "outputs": [
        {
          "output_type": "stream",
          "name": "stdout",
          "text": [
            "+-------+-----------+---------+-----------------+\n",
            "|summary|Hidratación|Absorción|              SPF|\n",
            "+-------+-----------+---------+-----------------+\n",
            "|  count|         20|       20|               20|\n",
            "|   mean|       NULL|     NULL|              7.5|\n",
            "| stddev|       NULL|     NULL|10.19545822516343|\n",
            "|    min|       Alto|     Alto|                0|\n",
            "|    max|      Medio|    Medio|               30|\n",
            "+-------+-----------+---------+-----------------+\n",
            "\n"
          ]
        }
      ]
    },
    {
      "cell_type": "markdown",
      "source": [
        "## 2. Preprocesamiento de datos (2 puntos)\n",
        "- Convertir la columna \"Tipo de Piel\" en valores numéricos (0, 1, 2, 3).\n",
        "- Transformar las variables categóricas (Hidratación y Absorción) en valores numéricos.\n",
        "  - Hidratación: Bajo (0), Medio (1), Alto (2)\n",
        "  - Absorción: Bajo (0), Medio (1), Alto (2)\n",
        "- Unir todas las características en un vector usando **VectorAssembler**."
      ],
      "metadata": {
        "id": "cMO766HdZLhO"
      }
    },
    {
      "cell_type": "code",
      "source": [
        "# Transformación Tipo de Piel\n",
        "# Seco = 0, Graso = 1, Mixto = 2, Sensible = 3\n",
        "df = df.withColumn(\"Tipo de Piel Index\",\n",
        "                   (when(col(\"Tipo de Piel\") == \"Seco\", 0)\n",
        "                    .when(col(\"Tipo de Piel\") == \"Graso\", 1)\n",
        "                    .when(col(\"Tipo de Piel\") == \"Mixto\", 2)\n",
        "                    .when(col(\"Tipo de Piel\") == \"Sensible\", 3)\n",
        "                    .otherwise(None)))\n",
        "\n",
        "# Eliminar columna tipo de piel\n",
        "df = df.drop(\"Tipo de Piel\")\n",
        "df.show()\n"
      ],
      "metadata": {
        "colab": {
          "base_uri": "https://localhost:8080/"
        },
        "id": "bT7qzVLm2EFI",
        "outputId": "52426634-a4e6-42e5-c1b8-d22c6441cdda"
      },
      "execution_count": null,
      "outputs": [
        {
          "output_type": "stream",
          "name": "stdout",
          "text": [
            "+--------------------+-----------+---------+---+------------------+\n",
            "|        Ingredientes|Hidratación|Absorción|SPF|Tipo de Piel Index|\n",
            "+--------------------+-----------+---------+---+------------------+\n",
            "|   Ácido Hialurónico|       Alto|    Medio|  0|                 0|\n",
            "|             Retinol|       Bajo|     Alto|  0|                 1|\n",
            "|          Vitamina C|      Medio|    Medio| 30|                 2|\n",
            "|           Aloe Vera|       Alto|     Bajo| 15|                 3|\n",
            "|         Niacinamida|      Medio|    Medio|  0|                 2|\n",
            "|           Ceramidas|       Alto|     Bajo|  0|                 0|\n",
            "|    Ácido Salicílico|       Bajo|     Alto|  0|                 1|\n",
            "|   Centella Asiática|      Medio|    Medio| 20|                 3|\n",
            "|Extracto de Té Verde|      Medio|     Alto|  0|                 2|\n",
            "|   Manteca de Karité|       Alto|     Bajo|  0|                 0|\n",
            "| Extracto de Regaliz|      Medio|    Medio| 15|                 3|\n",
            "|          Vitamina E|       Alto|    Medio| 25|                 0|\n",
            "|           Bakuchiol|       Bajo|    Medio|  0|                 2|\n",
            "|        Ácido Kójico|      Medio|     Alto|  0|                 1|\n",
            "|       Beta-Glucanos|       Alto|     Bajo| 10|                 3|\n",
            "|         Resveratrol|      Medio|    Medio| 20|                 2|\n",
            "|            Péptidos|       Bajo|     Alto|  0|                 1|\n",
            "|           Escualano|       Alto|    Medio|  0|                 0|\n",
            "|            Arbutina|      Medio|     Alto|  0|                 2|\n",
            "|                Urea|       Alto|     Bajo| 15|                 3|\n",
            "+--------------------+-----------+---------+---+------------------+\n",
            "\n"
          ]
        }
      ]
    },
    {
      "cell_type": "code",
      "metadata": {
        "colab": {
          "base_uri": "https://localhost:8080/"
        },
        "id": "435c3d05",
        "outputId": "9c796e12-8738-4f9b-a739-b8fd15b1a850"
      },
      "source": [
        "# Transformación Hidratación y Absorción\n",
        "df = df.withColumn(\"Hidratación Index\",\n",
        "                   (when(col(\"Hidratación\") == \"Bajo\", 0)\n",
        "                    .when(col(\"Hidratación\") == \"Medio\", 1)\n",
        "                    .when(col(\"Hidratación\") == \"Alto\", 2)\n",
        "                    .otherwise(None)))\n",
        "\n",
        "df = df.withColumn(\"Absorción Index\",\n",
        "                   (when(col(\"Absorción\") == \"Bajo\", 0)\n",
        "                    .when(col(\"Absorción\") == \"Medio\", 1)\n",
        "                    .when(col(\"Absorción\") == \"Alto\", 2)\n",
        "                    .otherwise(None)))\n",
        "\n",
        "# Drop the original columns and update the DataFrame\n",
        "df = df.drop(\"Hidratación\", \"Absorción\")\n",
        "\n",
        "df.show()"
      ],
      "execution_count": null,
      "outputs": [
        {
          "output_type": "stream",
          "name": "stdout",
          "text": [
            "+--------------------+---+------------------+-----------------+---------------+\n",
            "|        Ingredientes|SPF|Tipo de Piel Index|Hidratación Index|Absorción Index|\n",
            "+--------------------+---+------------------+-----------------+---------------+\n",
            "|   Ácido Hialurónico|  0|                 0|                2|              1|\n",
            "|             Retinol|  0|                 1|                0|              2|\n",
            "|          Vitamina C| 30|                 2|                1|              1|\n",
            "|           Aloe Vera| 15|                 3|                2|              0|\n",
            "|         Niacinamida|  0|                 2|                1|              1|\n",
            "|           Ceramidas|  0|                 0|                2|              0|\n",
            "|    Ácido Salicílico|  0|                 1|                0|              2|\n",
            "|   Centella Asiática| 20|                 3|                1|              1|\n",
            "|Extracto de Té Verde|  0|                 2|                1|              2|\n",
            "|   Manteca de Karité|  0|                 0|                2|              0|\n",
            "| Extracto de Regaliz| 15|                 3|                1|              1|\n",
            "|          Vitamina E| 25|                 0|                2|              1|\n",
            "|           Bakuchiol|  0|                 2|                0|              1|\n",
            "|        Ácido Kójico|  0|                 1|                1|              2|\n",
            "|       Beta-Glucanos| 10|                 3|                2|              0|\n",
            "|         Resveratrol| 20|                 2|                1|              1|\n",
            "|            Péptidos|  0|                 1|                0|              2|\n",
            "|           Escualano|  0|                 0|                2|              1|\n",
            "|            Arbutina|  0|                 2|                1|              2|\n",
            "|                Urea| 15|                 3|                2|              0|\n",
            "+--------------------+---+------------------+-----------------+---------------+\n",
            "\n"
          ]
        }
      ]
    },
    {
      "cell_type": "code",
      "source": [
        "# Esquema\n",
        "df.printSchema()"
      ],
      "metadata": {
        "colab": {
          "base_uri": "https://localhost:8080/"
        },
        "id": "uK6nGbQtJc02",
        "outputId": "3efd8103-cd64-4999-ae9c-42547904f55d"
      },
      "execution_count": null,
      "outputs": [
        {
          "output_type": "stream",
          "name": "stdout",
          "text": [
            "root\n",
            " |-- Ingredientes: string (nullable = true)\n",
            " |-- SPF: integer (nullable = true)\n",
            " |-- Tipo de Piel Index: integer (nullable = true)\n",
            " |-- Hidratación Index: integer (nullable = true)\n",
            " |-- Absorción Index: integer (nullable = true)\n",
            "\n"
          ]
        }
      ]
    },
    {
      "cell_type": "code",
      "source": [
        "# Unión de características con VectorAssembler\n",
        "assembler = VectorAssembler(inputCols=[\"Hidratación Index\", \"Absorción Index\", \"SPF\"], outputCol=\"features\")\n",
        "df = assembler.transform(df)\n",
        "df.show()"
      ],
      "metadata": {
        "colab": {
          "base_uri": "https://localhost:8080/"
        },
        "id": "hS4XYElk8Bsk",
        "outputId": "92e887b5-1dc0-4c9a-a2a1-4f58a47a2d87"
      },
      "execution_count": null,
      "outputs": [
        {
          "output_type": "stream",
          "name": "stdout",
          "text": [
            "+--------------------+---+------------------+-----------------+---------------+--------------+\n",
            "|        Ingredientes|SPF|Tipo de Piel Index|Hidratación Index|Absorción Index|      features|\n",
            "+--------------------+---+------------------+-----------------+---------------+--------------+\n",
            "|   Ácido Hialurónico|  0|                 0|                2|              1| [2.0,1.0,0.0]|\n",
            "|             Retinol|  0|                 1|                0|              2| [0.0,2.0,0.0]|\n",
            "|          Vitamina C| 30|                 2|                1|              1|[1.0,1.0,30.0]|\n",
            "|           Aloe Vera| 15|                 3|                2|              0|[2.0,0.0,15.0]|\n",
            "|         Niacinamida|  0|                 2|                1|              1| [1.0,1.0,0.0]|\n",
            "|           Ceramidas|  0|                 0|                2|              0| [2.0,0.0,0.0]|\n",
            "|    Ácido Salicílico|  0|                 1|                0|              2| [0.0,2.0,0.0]|\n",
            "|   Centella Asiática| 20|                 3|                1|              1|[1.0,1.0,20.0]|\n",
            "|Extracto de Té Verde|  0|                 2|                1|              2| [1.0,2.0,0.0]|\n",
            "|   Manteca de Karité|  0|                 0|                2|              0| [2.0,0.0,0.0]|\n",
            "| Extracto de Regaliz| 15|                 3|                1|              1|[1.0,1.0,15.0]|\n",
            "|          Vitamina E| 25|                 0|                2|              1|[2.0,1.0,25.0]|\n",
            "|           Bakuchiol|  0|                 2|                0|              1| [0.0,1.0,0.0]|\n",
            "|        Ácido Kójico|  0|                 1|                1|              2| [1.0,2.0,0.0]|\n",
            "|       Beta-Glucanos| 10|                 3|                2|              0|[2.0,0.0,10.0]|\n",
            "|         Resveratrol| 20|                 2|                1|              1|[1.0,1.0,20.0]|\n",
            "|            Péptidos|  0|                 1|                0|              2| [0.0,2.0,0.0]|\n",
            "|           Escualano|  0|                 0|                2|              1| [2.0,1.0,0.0]|\n",
            "|            Arbutina|  0|                 2|                1|              2| [1.0,2.0,0.0]|\n",
            "|                Urea| 15|                 3|                2|              0|[2.0,0.0,15.0]|\n",
            "+--------------------+---+------------------+-----------------+---------------+--------------+\n",
            "\n"
          ]
        }
      ]
    },
    {
      "cell_type": "markdown",
      "source": [
        "## 3. División de datos y entrenamiento del modelo (3 puntos)\n",
        "- Dividir los datos en 80% entrenamiento y 20% prueba.\n",
        "- Entrenar un modelo de Árboles de Decisión con MLlib usando las características del **dataset**."
      ],
      "metadata": {
        "id": "C2ckhSDFZWnR"
      }
    },
    {
      "cell_type": "code",
      "source": [
        "# División de datos\n",
        "(train_data, test_data) = df.randomSplit([0.8, 0.2], seed=42)"
      ],
      "metadata": {
        "id": "FIEDvM7k8SN3"
      },
      "execution_count": null,
      "outputs": []
    },
    {
      "cell_type": "code",
      "source": [
        "# Creación de modelo Árbol de Decisión\n",
        "dt = DecisionTreeClassifier(labelCol=\"Tipo de Piel Index\", featuresCol=\"features\")\n",
        "\n",
        "# Entrenamiento de modelo\n",
        "model = dt.fit(train_data)"
      ],
      "metadata": {
        "id": "bu5YeK5k8YZM"
      },
      "execution_count": null,
      "outputs": []
    },
    {
      "cell_type": "markdown",
      "source": [
        "## 4. Predicción y evaluación (2 puntos)\n",
        "- Aplicar el modelo al conjunto de prueba y mostrar las predicciones.\n",
        "- Calcular la precisión del modelo usando **MulticlassClassificationEvaluator**."
      ],
      "metadata": {
        "id": "YIHrTwZ2Zayc"
      }
    },
    {
      "cell_type": "code",
      "source": [
        "# Aplicar el modelo a conjunto de prueba\n",
        "predictions = model.transform(test_data)\n",
        "predictions.select(\"features\", \"Tipo de Piel Index\", \"prediction\").show()"
      ],
      "metadata": {
        "colab": {
          "base_uri": "https://localhost:8080/"
        },
        "id": "qzleHHDQ9cQY",
        "outputId": "12636206-5a98-47e1-d85b-930e73534069"
      },
      "execution_count": null,
      "outputs": [
        {
          "output_type": "stream",
          "name": "stdout",
          "text": [
            "+-------------+------------------+----------+\n",
            "|     features|Tipo de Piel Index|prediction|\n",
            "+-------------+------------------+----------+\n",
            "|[0.0,1.0,0.0]|                 2|       2.0|\n",
            "|[2.0,1.0,0.0]|                 0|       0.0|\n",
            "|[1.0,2.0,0.0]|                 2|       1.0|\n",
            "|[0.0,2.0,0.0]|                 1|       1.0|\n",
            "|[0.0,2.0,0.0]|                 1|       1.0|\n",
            "+-------------+------------------+----------+\n",
            "\n"
          ]
        }
      ]
    },
    {
      "cell_type": "code",
      "source": [
        "# Precisión del modelo\n",
        "evaluator = MulticlassClassificationEvaluator(labelCol=\"Tipo de Piel Index\", predictionCol=\"prediction\", metricName=\"accuracy\")\n",
        "accuracy = evaluator.evaluate(predictions)\n",
        "print(\"Precisión del modelo: {:.2f}%\".format(accuracy * 100))"
      ],
      "metadata": {
        "colab": {
          "base_uri": "https://localhost:8080/"
        },
        "id": "AryYBEcF9iqT",
        "outputId": "751dd478-412f-490d-dbe8-91bb63bae762"
      },
      "execution_count": null,
      "outputs": [
        {
          "output_type": "stream",
          "name": "stdout",
          "text": [
            "Precisión del modelo: 80.00%\n"
          ]
        }
      ]
    },
    {
      "cell_type": "markdown",
      "source": [
        "## 5. Análisis de resultados y mejoras (1 punto)\n",
        "- Explicar en breve (3-5 líneas) qué tan preciso fue el modelo y cómo se podría mejorar (por\n",
        "ejemplo, usando otro algoritmo o ajustando parámetros).\n",
        "\n",
        "El modelo alcanzó una precisión de un 80%, es decir, logra clasificar correctamente la mayoría de los productos de acuerdo al tipo de piel. Podríamos mejorar esta métrica probando otros métodos más robustos como RandomForestClassifier, además de utilizar validación cruzada o grid search."
      ],
      "metadata": {
        "id": "e8UaZ_xkZf9G"
      }
    },
    {
      "cell_type": "markdown",
      "source": [
        "# EXTRAS"
      ],
      "metadata": {
        "id": "LXHUb7hnalOE"
      }
    },
    {
      "cell_type": "code",
      "source": [
        "# Prueba con random forest\n",
        "rf = RandomForestClassifier(labelCol=\"Tipo de Piel Index\", featuresCol=\"features\")\n",
        "\n",
        "paramGrid = (ParamGridBuilder()\n",
        "             .addGrid(rf.numTrees, [10, 20, 50])         # Número de árboles\n",
        "             .addGrid(rf.maxDepth, [5, 10])              # Profundidad máxima\n",
        "             .addGrid(rf.maxBins, [32, 64])              # Número de bins\n",
        "             .build())\n",
        "\n",
        "evaluator = MulticlassClassificationEvaluator(\n",
        "    labelCol=\"Tipo de Piel Index\", predictionCol=\"prediction\", metricName=\"accuracy\")\n",
        "\n",
        "crossval = CrossValidator(estimator=rf,\n",
        "                          estimatorParamMaps=paramGrid,\n",
        "                          evaluator=evaluator,\n",
        "                          numFolds=3)\n",
        "\n",
        "cvModel = crossval.fit(train_data)\n",
        "\n",
        "predictions2 = cvModel.transform(test_data)\n",
        "accuracy2 = evaluator.evaluate(predictions2)\n",
        "print(\"Precisión: \", accuracy2)\n",
        "\n",
        "bestModel = cvModel.bestModel\n",
        "print(\"Mejores hiperparámetros:\")\n",
        "print(\" - numTrees:\", bestModel.getNumTrees)\n",
        "print(\" - maxDepth:\", bestModel._java_obj.getMaxDepth())\n",
        "print(\" - maxBins:\", bestModel._java_obj.getMaxBins())"
      ],
      "metadata": {
        "colab": {
          "base_uri": "https://localhost:8080/"
        },
        "id": "ss29mVxE_qZc",
        "outputId": "dd7d1d21-722a-4142-b822-28e79df4ca07"
      },
      "execution_count": null,
      "outputs": [
        {
          "output_type": "stream",
          "name": "stdout",
          "text": [
            "Precisión:  1.0\n",
            "Mejores hiperparámetros:\n",
            " - numTrees: 20\n",
            " - maxDepth: 5\n",
            " - maxBins: 32\n"
          ]
        }
      ]
    },
    {
      "cell_type": "code",
      "source": [
        "# Comparar primeras predicciones con data real\n",
        "predictions2.select(\"features\", \"Tipo de Piel Index\", \"prediction\").show()"
      ],
      "metadata": {
        "colab": {
          "base_uri": "https://localhost:8080/"
        },
        "id": "39gwuLRcHAi1",
        "outputId": "608961bb-3865-433d-8e67-1700226ede50"
      },
      "execution_count": null,
      "outputs": [
        {
          "output_type": "stream",
          "name": "stdout",
          "text": [
            "+-------------+------------------+----------+\n",
            "|     features|Tipo de Piel Index|prediction|\n",
            "+-------------+------------------+----------+\n",
            "|[0.0,1.0,0.0]|                 2|       2.0|\n",
            "|[2.0,1.0,0.0]|                 0|       0.0|\n",
            "|[1.0,2.0,0.0]|                 2|       2.0|\n",
            "|[0.0,2.0,0.0]|                 1|       1.0|\n",
            "|[0.0,2.0,0.0]|                 1|       1.0|\n",
            "+-------------+------------------+----------+\n",
            "\n"
          ]
        }
      ]
    },
    {
      "cell_type": "markdown",
      "source": [
        "Con RandomForestClasiffier se logra una precisión de 1, es decir, todas las clasificaciones son correctas (tal como podemos ver en la comparación de la celda anterior)."
      ],
      "metadata": {
        "id": "L7cjyG-5busb"
      }
    }
  ]
}